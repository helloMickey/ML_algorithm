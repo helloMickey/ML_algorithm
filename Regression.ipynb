{
 "cells": [
  {
   "cell_type": "markdown",
   "metadata": {},
   "source": [
    "<center>\n",
    "<b>\n",
    "<font size=5>Assignment3：Regression</font>\n",
    "<br>\n",
    "<br>\n",
    "<font size=4>陈挺  19210240009</font>\n",
    "<br>\n",
    "</b>\n",
    "</center>\n"
   ]
  },
  {
   "cell_type": "markdown",
   "metadata": {
    "toc": true
   },
   "source": [
    "<h1>Table of Contents<span class=\"tocSkip\"></span></h1>\n",
    "<div class=\"toc\"><ul class=\"toc-item\"><li><span><a href=\"#Regression-task-description\" data-toc-modified-id=\"Regression-task-description-1\"><span class=\"toc-item-num\">1&nbsp;&nbsp;</span>Regression task description</a></span></li><li><span><a href=\"#Regression-algorithm\" data-toc-modified-id=\"Regression-algorithm-2\"><span class=\"toc-item-num\">2&nbsp;&nbsp;</span>Regression algorithm</a></span><ul class=\"toc-item\"><li><span><a href=\"#L1-&amp;-L2-Normalization\" data-toc-modified-id=\"L1-&amp;-L2-Normalization-2.1\"><span class=\"toc-item-num\">2.1&nbsp;&nbsp;</span>L1 &amp; L2 Normalization</a></span></li></ul></li><li><span><a href=\"#Implementation\" data-toc-modified-id=\"Implementation-3\"><span class=\"toc-item-num\">3&nbsp;&nbsp;</span><strong>Implementation</strong></a></span><ul class=\"toc-item\"><li><span><a href=\"#Linear-regression\" data-toc-modified-id=\"Linear-regression-3.1\"><span class=\"toc-item-num\">3.1&nbsp;&nbsp;</span>Linear regression</a></span></li><li><span><a href=\"#Ridge-regression\" data-toc-modified-id=\"Ridge-regression-3.2\"><span class=\"toc-item-num\">3.2&nbsp;&nbsp;</span>Ridge regression</a></span></li><li><span><a href=\"#Lasso-regression\" data-toc-modified-id=\"Lasso-regression-3.3\"><span class=\"toc-item-num\">3.3&nbsp;&nbsp;</span>Lasso regression</a></span></li><li><span><a href=\"#ElasticNet-regression\" data-toc-modified-id=\"ElasticNet-regression-3.4\"><span class=\"toc-item-num\">3.4&nbsp;&nbsp;</span>ElasticNet regression</a></span></li></ul></li><li><span><a href=\"#Implementation-Test\" data-toc-modified-id=\"Implementation-Test-4\"><span class=\"toc-item-num\">4&nbsp;&nbsp;</span>Implementation Test</a></span></li><li><span><a href=\"#Taks:-Boston-House-Prices\" data-toc-modified-id=\"Taks:-Boston-House-Prices-5\"><span class=\"toc-item-num\">5&nbsp;&nbsp;</span>Taks: Boston House Prices</a></span><ul class=\"toc-item\"><li><span><a href=\"#data-pre-analysis\" data-toc-modified-id=\"data-pre-analysis-5.1\"><span class=\"toc-item-num\">5.1&nbsp;&nbsp;</span>data pre-analysis</a></span></li><li><span><a href=\"#Model-Test\" data-toc-modified-id=\"Model-Test-5.2\"><span class=\"toc-item-num\">5.2&nbsp;&nbsp;</span><strong>Model Test</strong></a></span></li></ul></li><li><span><a href=\"#Summarize\" data-toc-modified-id=\"Summarize-6\"><span class=\"toc-item-num\">6&nbsp;&nbsp;</span><strong>Summarize</strong></a></span></li></ul></div>"
   ]
  },
  {
   "cell_type": "markdown",
   "metadata": {},
   "source": [
    "# Regression task description\n",
    "\n",
    "请基于以下数据做房价预测：\n",
    "\n",
    "（1）https://www.kaggle.com/vikrishnan/boston-house-prices\n",
    "\n",
    "（2）https://github.com/datasets/house-prices-uk\n",
    "\n",
    "设计房价预测模型，必选线性回归，包括简单线性回归器（如基于多项式），Ridge 回归器，lasso回归器以及基于决策树的回归器。可选基于支持向量机、深度学习等的回归器。\n",
    "\n",
    " \n",
    "报告至少包含：\n",
    "\n",
    "任务描述；（2）所选算法描述；（3）算法实现；（4）数据描述、实验结果、总结等信息。 "
   ]
  },
  {
   "cell_type": "markdown",
   "metadata": {},
   "source": [
    "# Regression algorithm\n",
    "回归算法有多种，`Ridge regression` 和 `Lasso Regression` 分别对`Linear Regression`进行了改进，在损失函数上分别加上 `L1` 正则项和 `L2` 正则项，`ElasticNet regression`则是在损失函数上综合了 `L1` 正则项和 `L2` 正则项。\n",
    "\n",
    "它们的损失函数如下：\n",
    "\n",
    "`Linear Regression`：$Loss = \\frac{1}{2m} \\sum(y- \\hat{y})^{2}$\n",
    "\n",
    "`Ridge regression`：$Loss = \\frac{1}{2m} \\sum(y- \\hat{y})^{2} + \\lambda \\sum{\\left \\| \\theta \\right \\|} $\n",
    "\n",
    "`Lasso Regression`：$Loss = \\frac{1}{2m} \\sum(y- \\hat{y})^{2} + \\lambda \\sum{\\theta ^{2}}$\n",
    "\n",
    "`ElasticNet regression`：$Loss = \\frac{1}{2m}  \\sum(y- \\hat{y})^{2} + \\lambda_1 \\sum{\\theta ^{2}} + \\lambda_2 \\sum{\\left \\| \\theta \\right \\|}$\n",
    "\n",
    "其中$\\hat{y} = w ^{T}\\cdot{x} + b$"
   ]
  },
  {
   "cell_type": "markdown",
   "metadata": {
    "ExecuteTime": {
     "end_time": "2019-10-09T10:29:07.432595Z",
     "start_time": "2019-10-09T10:29:07.428822Z"
    }
   },
   "source": [
    "## L1 & L2 Normalization\n",
    "Ridge、Lasso、ElasticNet 回归 几者之间的差别在于损失函数中的正则化项，L1-norm 与 L2-norm 对模型训练过程中所起到的作用如下图所示：\n",
    "![ ](./pic/L1_and_L2_balls.jpg)\n",
    "https://upload.wikimedia.org/wikipedia/en/f/fd/L1_and_L2_balls.jpg"
   ]
  },
  {
   "cell_type": "markdown",
   "metadata": {},
   "source": [
    "# __Implementation__\n",
    "\n",
    "实现时要注意，Loss中`1/2m`不是正则化项的因子！"
   ]
  },
  {
   "cell_type": "markdown",
   "metadata": {},
   "source": [
    "## Linear regression"
   ]
  },
  {
   "cell_type": "code",
   "execution_count": 1,
   "metadata": {
    "ExecuteTime": {
     "end_time": "2019-10-10T15:42:28.036405Z",
     "start_time": "2019-10-10T15:42:27.653040Z"
    }
   },
   "outputs": [],
   "source": [
    "import numpy as np\n",
    "from pandas import read_csv\n",
    "from pandas import set_option\n",
    "set_option('precision', 2)\n",
    "from matplotlib import pyplot\n",
    "import matplotlib.pyplot as plt\n",
    "\n",
    "np.random.seed(0)"
   ]
  },
  {
   "cell_type": "code",
   "execution_count": 2,
   "metadata": {
    "ExecuteTime": {
     "end_time": "2019-10-10T15:42:28.048419Z",
     "start_time": "2019-10-10T15:42:28.039024Z"
    },
    "code_folding": []
   },
   "outputs": [],
   "source": [
    "class LinearRegression():\n",
    "    def __init__(self):\n",
    "        pass\n",
    "\n",
    "    def cal_loss(self, w, b, X, y):\n",
    "        '''\n",
    "        w: vector (D,)\n",
    "        b: real num\n",
    "        X: matrix (N, D)\n",
    "        y: (N, )\n",
    "        return: loss value\n",
    "        '''\n",
    "        m = X.shape[0]\n",
    "        D = X.shape[1]\n",
    "\n",
    "        # loss = np.sum(np.power(X.dot(w)-y, 2))/2/m\n",
    "        y_hat = X.dot(w) + b\n",
    "        diff = y_hat - y  # (N,)\n",
    "        loss = diff.T.dot(diff)  # np.sum(diff^2)\n",
    "        loss = loss/2/m\n",
    "\n",
    "        dw = X.T.dot(y_hat - y)/m  # (D,)\n",
    "        db = np.sum(y_hat - y)/m\n",
    "\n",
    "        return loss, dw, db\n",
    "\n",
    "    def train(self, X_train, y_train, learn_rate=0.99, iteration=1000, loss_print=False):\n",
    "        '''\n",
    "        X_train: train data (N, D)\n",
    "        Y_train: train data (N,)\n",
    "\n",
    "        '''\n",
    "        D = X_train.shape[1]\n",
    "\n",
    "        self.W = np.random.randn(D,)*0.001\n",
    "        self.b = 0\n",
    "\n",
    "        loss, dw = None, None\n",
    "        for i in range(iteration):\n",
    "            loss, dw, db = self.cal_loss(self.W, self.b, X_train, y_train)\n",
    "            self.W = self.W - learn_rate*dw\n",
    "            self.b = self.b - learn_rate*db\n",
    "\n",
    "            if loss_print:\n",
    "                print('Iteration: %d , loss = %.2f' % (i, loss))\n",
    "        pass\n",
    "\n",
    "    def predict(self, X_test):\n",
    "        return X_test.dot(self.W) + self.b  # (N, D) dot (D, )\n",
    "\n",
    "    pass"
   ]
  },
  {
   "cell_type": "markdown",
   "metadata": {},
   "source": [
    "## Ridge regression"
   ]
  },
  {
   "cell_type": "code",
   "execution_count": 3,
   "metadata": {
    "ExecuteTime": {
     "end_time": "2019-10-10T15:42:28.063047Z",
     "start_time": "2019-10-10T15:42:28.051856Z"
    },
    "code_folding": []
   },
   "outputs": [],
   "source": [
    "# 继承 LinearRegression 改写其中的 Loss 计算的方式\n",
    "class RidgeRegression(LinearRegression):\n",
    "\n",
    "    def __init__(self, lamda):\n",
    "        self.lamda = lamda  # lamda是一个超参数\n",
    "        super().__init__()\n",
    "        pass\n",
    "\n",
    "    def cal_loss(self, w, b, X, y):\n",
    "        '''\n",
    "        w: vector (D,)\n",
    "        b: real num\n",
    "        X: matrix (N, D)\n",
    "        y: (N, )\n",
    "        return: loss value\n",
    "        '''\n",
    "        l = self.lamda\n",
    "        m = X.shape[0]\n",
    "\n",
    "        loss = np.sum(np.power(X.dot(w)-y, 2))\n",
    "        loss = loss/2/m + l*np.sum(np.abs(w))\n",
    "\n",
    "        dw = X.T.dot(X.dot(w)+b - y)  # (D,)\n",
    "        dw = dw/m + l*(len(w)-len(w[w < 0]))\n",
    "\n",
    "        db = np.sum(X.dot(w)+b - y)/m\n",
    "\n",
    "        return loss, dw, db\n",
    "    pass"
   ]
  },
  {
   "cell_type": "markdown",
   "metadata": {},
   "source": [
    "## Lasso regression"
   ]
  },
  {
   "cell_type": "code",
   "execution_count": 4,
   "metadata": {
    "ExecuteTime": {
     "end_time": "2019-10-10T15:42:28.072215Z",
     "start_time": "2019-10-10T15:42:28.065020Z"
    },
    "code_folding": [
     7
    ]
   },
   "outputs": [],
   "source": [
    "class LassoRegression(LinearRegression):\n",
    "\n",
    "    def __init__(self, lamda):\n",
    "        self.lamda = lamda  # lamda是一个超参数\n",
    "        super().__init__()\n",
    "        pass\n",
    "\n",
    "    def cal_loss(self, w, b, X, y):\n",
    "        '''\n",
    "        w: vector (D,)\n",
    "        b: real num\n",
    "        X: matrix (N, D)\n",
    "        y: (N, )\n",
    "        return: loss value\n",
    "        '''\n",
    "        l = self.lamda\n",
    "        m = X.shape[0]\n",
    "\n",
    "        loss = np.sum(np.power(X.dot(w)-y, 2))\n",
    "        loss = loss/2/m + l*np.sum(np.power(w, 2))\n",
    "\n",
    "        dw = X.T.dot(X.dot(w)+b - y)  # (D,)\n",
    "        dw = dw/m + 2*l*w\n",
    "\n",
    "        db = np.sum(X.dot(w)+b - y)/m\n",
    "        return loss, dw, db\n",
    "\n",
    "    pass"
   ]
  },
  {
   "cell_type": "markdown",
   "metadata": {},
   "source": [
    "## ElasticNet regression"
   ]
  },
  {
   "cell_type": "code",
   "execution_count": 5,
   "metadata": {
    "ExecuteTime": {
     "end_time": "2019-10-10T15:42:28.082733Z",
     "start_time": "2019-10-10T15:42:28.074173Z"
    }
   },
   "outputs": [],
   "source": [
    "class ElasticRegression(LinearRegression):\n",
    "\n",
    "    def __init__(self, lamda_1, lamda_2):\n",
    "        self.lamda_1 = lamda_1  # lamda是一个超参数\n",
    "        self.lamda_2 = lamda_2\n",
    "        super().__init__()\n",
    "        pass\n",
    "\n",
    "    def cal_loss(self, w, b, X, y):\n",
    "        '''\n",
    "        w: vector (D,)\n",
    "        b: real num\n",
    "        X: matrix (N, D)\n",
    "        y: (N, )\n",
    "        return: loss value\n",
    "        '''\n",
    "        l1 = self.lamda_1\n",
    "        l2 = self.lamda_2\n",
    "        m = X.shape[0]\n",
    "\n",
    "        loss = np.sum(np.power(X.dot(w)-y, 2))\n",
    "        loss = loss/2/m + l1*np.sum(np.power(w, 2)) + l2*np.sum(np.abs(w))\n",
    "\n",
    "        dw = X.T.dot(X.dot(w)+b - y)  # (D,)\n",
    "        dw = dw/m + 2*l1*w + l2*(len(w)-len(w[w < 0]))\n",
    "\n",
    "        db = np.sum(X.dot(w)+b - y)/m\n",
    "        return loss, dw, db\n",
    "    pass"
   ]
  },
  {
   "cell_type": "markdown",
   "metadata": {},
   "source": [
    "# Implementation Test\n",
    "测试implementation部分所实现的回归模型是否正确\n",
    "\n",
    "\n",
    "模型测试：使用sklearn中的diabetes数据进行测试，为了可视化的方便，只选择了一个feature作为输入x。\n",
    "\n",
    "对代码的实现进行测试分为两部分：\n",
    "- Loss是否下降（检测梯度下降算法是否正确实现）\n",
    "- 迭代次数增加模型的表现能力"
   ]
  },
  {
   "cell_type": "code",
   "execution_count": 6,
   "metadata": {
    "ExecuteTime": {
     "end_time": "2019-10-10T15:42:28.513805Z",
     "start_time": "2019-10-10T15:42:28.084756Z"
    }
   },
   "outputs": [
    {
     "name": "stdout",
     "output_type": "stream",
     "text": [
      "数据size: 训练集 (400, 1) (400,) 测试集 (42, 1) (42,)\n"
     ]
    }
   ],
   "source": [
    "from sklearn import datasets\n",
    "\n",
    "# Load the diabetes dataset\n",
    "diabetes = datasets.load_diabetes()\n",
    "# Use only one feature\n",
    "diabetes_X = diabetes.data[:, np.newaxis, 2]\n",
    "# Split the data into training/testing sets\n",
    "diabetes_X_train = diabetes_X[:-42]\n",
    "diabetes_X_test = diabetes_X[-42:]\n",
    "# Split the targets into training/testing sets\n",
    "diabetes_y_train = diabetes.target[:-42]\n",
    "diabetes_y_test = diabetes.target[-42:]\n",
    "print(\"数据size:\", \"训练集\", diabetes_X_train.shape, diabetes_y_train.shape,\n",
    "      \"测试集\", diabetes_X_test.shape, diabetes_y_test.shape)"
   ]
  },
  {
   "cell_type": "code",
   "execution_count": 7,
   "metadata": {
    "ExecuteTime": {
     "end_time": "2019-10-10T15:42:28.523645Z",
     "start_time": "2019-10-10T15:42:28.516750Z"
    }
   },
   "outputs": [
    {
     "name": "stdout",
     "output_type": "stream",
     "text": [
      "Iteration: 0 , loss = 14624.89\n",
      "Iteration: 1 , loss = 5892.55\n",
      "Iteration: 2 , loss = 3707.83\n",
      "Iteration: 3 , loss = 3160.01\n",
      "Iteration: 4 , loss = 3021.42\n",
      "Iteration: 5 , loss = 2985.15\n",
      "Iteration: 6 , loss = 2974.45\n",
      "Iteration: 7 , loss = 2970.15\n",
      "Iteration: 8 , loss = 2967.46\n",
      "Iteration: 9 , loss = 2965.17\n"
     ]
    }
   ],
   "source": [
    "dev_model = LinearRegression()\n",
    "dev_model.train(diabetes_X_train, diabetes_y_train, learn_rate=0.5, iteration=10, loss_print=True)"
   ]
  },
  {
   "cell_type": "markdown",
   "metadata": {},
   "source": [
    "将不同迭代次数下，模型的拟合效果展示出来，观察在训练集上不同迭代次数下拟合的 y = a*x + b 在测试集合的表示能力。可以看出随着迭代的增多，模型的表示能力逐渐变强。"
   ]
  },
  {
   "cell_type": "code",
   "execution_count": 8,
   "metadata": {
    "ExecuteTime": {
     "end_time": "2019-10-10T15:42:28.555351Z",
     "start_time": "2019-10-10T15:42:28.525702Z"
    },
    "scrolled": true
   },
   "outputs": [],
   "source": [
    "model_1 = LinearRegression()\n",
    "model_1.train(diabetes_X_train, diabetes_y_train, learn_rate=0.99, iteration=0, loss_print=False)\n",
    "\n",
    "model_1_1 = LinearRegression()\n",
    "model_1_1.train(diabetes_X_train, diabetes_y_train, learn_rate=0.99, iteration=10, loss_print=False)\n",
    "\n",
    "model_1_2 = LinearRegression()\n",
    "model_1_2.train(diabetes_X_train, diabetes_y_train, learn_rate=0.99, iteration=100, loss_print=False)\n",
    "\n",
    "model_1_3 = LinearRegression()\n",
    "model_1_3.train(diabetes_X_train, diabetes_y_train, learn_rate=0.99, iteration=1000, loss_print=False)"
   ]
  },
  {
   "cell_type": "code",
   "execution_count": 9,
   "metadata": {
    "ExecuteTime": {
     "end_time": "2019-10-10T15:42:28.757826Z",
     "start_time": "2019-10-10T15:42:28.556763Z"
    }
   },
   "outputs": [
    {
     "data": {
      "image/png": "[encoded data removed]",
      "text/plain": [
       "<Figure size 432x288 with 1 Axes>"
      ]
     },
     "metadata": {
      "needs_background": "light"
     },
     "output_type": "display_data"
    }
   ],
   "source": [
    "plt.xlabel('x label')\n",
    "plt.ylabel('y label')\n",
    "\n",
    "plt.scatter(diabetes_X_test, diabetes_y_test,  color='black');\n",
    "plt.plot(diabetes_X_test, model_1.predict(diabetes_X_test), color='blue',\n",
    "         linewidth=3, label=\"iter-0\");\n",
    "plt.plot(diabetes_X_test, model_1_1.predict(diabetes_X_test), color='red',\n",
    "         linewidth=3, label=\"iter-10\");\n",
    "plt.plot(diabetes_X_test, model_1_2.predict(diabetes_X_test), color='green',\n",
    "         linewidth=3, label=\"iter-100\");\n",
    "plt.plot(diabetes_X_test, model_1_3.predict(diabetes_X_test), color='grey',\n",
    "         linewidth=3, label=\"iter-1000\");\n",
    "# Place a legend to the right of this smaller subplot.\n",
    "plt.legend(bbox_to_anchor=(1.05, 1), loc='upper left', borderaxespad=0.);\n",
    "plt.show()"
   ]
  },
  {
   "cell_type": "markdown",
   "metadata": {},
   "source": [
    "# Taks: Boston House Prices\n",
    "https://www.kaggle.com/vikrishnan/boston-house-prices"
   ]
  },
  {
   "cell_type": "markdown",
   "metadata": {},
   "source": [
    "## data pre-analysis\n",
    "\n",
    "数据的预分析借鉴自 [Manimala](https://www.kaggle.com/vikrishnan/house-sales-price-using-regression/notebook)。"
   ]
  },
  {
   "cell_type": "code",
   "execution_count": 10,
   "metadata": {
    "ExecuteTime": {
     "end_time": "2019-10-10T15:42:28.809069Z",
     "start_time": "2019-10-10T15:42:28.759719Z"
    }
   },
   "outputs": [
    {
     "data": {
      "text/html": [
       "<div>\n",
       "<style scoped>\n",
       "    .dataframe tbody tr th:only-of-type {\n",
       "        vertical-align: middle;\n",
       "    }\n",
       "\n",
       "    .dataframe tbody tr th {\n",
       "        vertical-align: top;\n",
       "    }\n",
       "\n",
       "    .dataframe thead th {\n",
       "        text-align: right;\n",
       "    }\n",
       "</style>\n",
       "<table border=\"1\" class=\"dataframe\">\n",
       "  <thead>\n",
       "    <tr style=\"text-align: right;\">\n",
       "      <th></th>\n",
       "      <th>CRIM</th>\n",
       "      <th>ZN</th>\n",
       "      <th>INDUS</th>\n",
       "      <th>CHAS</th>\n",
       "      <th>NOX</th>\n",
       "      <th>RM</th>\n",
       "      <th>AGE</th>\n",
       "      <th>DIS</th>\n",
       "      <th>RAD</th>\n",
       "      <th>TAX</th>\n",
       "      <th>PTRATIO</th>\n",
       "      <th>B</th>\n",
       "      <th>LSTAT</th>\n",
       "      <th>MEDV</th>\n",
       "    </tr>\n",
       "  </thead>\n",
       "  <tbody>\n",
       "    <tr>\n",
       "      <th>count</th>\n",
       "      <td>5.06e+02</td>\n",
       "      <td>506.00</td>\n",
       "      <td>506.00</td>\n",
       "      <td>506.00</td>\n",
       "      <td>506.00</td>\n",
       "      <td>506.00</td>\n",
       "      <td>506.00</td>\n",
       "      <td>506.00</td>\n",
       "      <td>506.00</td>\n",
       "      <td>506.00</td>\n",
       "      <td>506.00</td>\n",
       "      <td>506.00</td>\n",
       "      <td>506.00</td>\n",
       "      <td>506.00</td>\n",
       "    </tr>\n",
       "    <tr>\n",
       "      <th>mean</th>\n",
       "      <td>3.61e+00</td>\n",
       "      <td>11.36</td>\n",
       "      <td>11.14</td>\n",
       "      <td>0.07</td>\n",
       "      <td>0.55</td>\n",
       "      <td>6.28</td>\n",
       "      <td>68.57</td>\n",
       "      <td>3.80</td>\n",
       "      <td>9.55</td>\n",
       "      <td>408.24</td>\n",
       "      <td>18.46</td>\n",
       "      <td>356.67</td>\n",
       "      <td>12.65</td>\n",
       "      <td>22.53</td>\n",
       "    </tr>\n",
       "    <tr>\n",
       "      <th>std</th>\n",
       "      <td>8.60e+00</td>\n",
       "      <td>23.32</td>\n",
       "      <td>6.86</td>\n",
       "      <td>0.25</td>\n",
       "      <td>0.12</td>\n",
       "      <td>0.70</td>\n",
       "      <td>28.15</td>\n",
       "      <td>2.11</td>\n",
       "      <td>8.71</td>\n",
       "      <td>168.54</td>\n",
       "      <td>2.16</td>\n",
       "      <td>91.29</td>\n",
       "      <td>7.14</td>\n",
       "      <td>9.20</td>\n",
       "    </tr>\n",
       "    <tr>\n",
       "      <th>min</th>\n",
       "      <td>6.32e-03</td>\n",
       "      <td>0.00</td>\n",
       "      <td>0.46</td>\n",
       "      <td>0.00</td>\n",
       "      <td>0.39</td>\n",
       "      <td>3.56</td>\n",
       "      <td>2.90</td>\n",
       "      <td>1.13</td>\n",
       "      <td>1.00</td>\n",
       "      <td>187.00</td>\n",
       "      <td>12.60</td>\n",
       "      <td>0.32</td>\n",
       "      <td>1.73</td>\n",
       "      <td>5.00</td>\n",
       "    </tr>\n",
       "    <tr>\n",
       "      <th>25%</th>\n",
       "      <td>8.20e-02</td>\n",
       "      <td>0.00</td>\n",
       "      <td>5.19</td>\n",
       "      <td>0.00</td>\n",
       "      <td>0.45</td>\n",
       "      <td>5.89</td>\n",
       "      <td>45.02</td>\n",
       "      <td>2.10</td>\n",
       "      <td>4.00</td>\n",
       "      <td>279.00</td>\n",
       "      <td>17.40</td>\n",
       "      <td>375.38</td>\n",
       "      <td>6.95</td>\n",
       "      <td>17.02</td>\n",
       "    </tr>\n",
       "    <tr>\n",
       "      <th>50%</th>\n",
       "      <td>2.57e-01</td>\n",
       "      <td>0.00</td>\n",
       "      <td>9.69</td>\n",
       "      <td>0.00</td>\n",
       "      <td>0.54</td>\n",
       "      <td>6.21</td>\n",
       "      <td>77.50</td>\n",
       "      <td>3.21</td>\n",
       "      <td>5.00</td>\n",
       "      <td>330.00</td>\n",
       "      <td>19.05</td>\n",
       "      <td>391.44</td>\n",
       "      <td>11.36</td>\n",
       "      <td>21.20</td>\n",
       "    </tr>\n",
       "    <tr>\n",
       "      <th>75%</th>\n",
       "      <td>3.68e+00</td>\n",
       "      <td>12.50</td>\n",
       "      <td>18.10</td>\n",
       "      <td>0.00</td>\n",
       "      <td>0.62</td>\n",
       "      <td>6.62</td>\n",
       "      <td>94.07</td>\n",
       "      <td>5.19</td>\n",
       "      <td>24.00</td>\n",
       "      <td>666.00</td>\n",
       "      <td>20.20</td>\n",
       "      <td>396.23</td>\n",
       "      <td>16.96</td>\n",
       "      <td>25.00</td>\n",
       "    </tr>\n",
       "    <tr>\n",
       "      <th>max</th>\n",
       "      <td>8.90e+01</td>\n",
       "      <td>100.00</td>\n",
       "      <td>27.74</td>\n",
       "      <td>1.00</td>\n",
       "      <td>0.87</td>\n",
       "      <td>8.78</td>\n",
       "      <td>100.00</td>\n",
       "      <td>12.13</td>\n",
       "      <td>24.00</td>\n",
       "      <td>711.00</td>\n",
       "      <td>22.00</td>\n",
       "      <td>396.90</td>\n",
       "      <td>37.97</td>\n",
       "      <td>50.00</td>\n",
       "    </tr>\n",
       "  </tbody>\n",
       "</table>\n",
       "</div>"
      ],
      "text/plain": [
       "           CRIM      ZN   INDUS    CHAS     NOX      RM     AGE     DIS  \\\n",
       "count  5.06e+02  506.00  506.00  506.00  506.00  506.00  506.00  506.00   \n",
       "mean   3.61e+00   11.36   11.14    0.07    0.55    6.28   68.57    3.80   \n",
       "std    8.60e+00   23.32    6.86    0.25    0.12    0.70   28.15    2.11   \n",
       "min    6.32e-03    0.00    0.46    0.00    0.39    3.56    2.90    1.13   \n",
       "25%    8.20e-02    0.00    5.19    0.00    0.45    5.89   45.02    2.10   \n",
       "50%    2.57e-01    0.00    9.69    0.00    0.54    6.21   77.50    3.21   \n",
       "75%    3.68e+00   12.50   18.10    0.00    0.62    6.62   94.07    5.19   \n",
       "max    8.90e+01  100.00   27.74    1.00    0.87    8.78  100.00   12.13   \n",
       "\n",
       "          RAD     TAX  PTRATIO       B   LSTAT    MEDV  \n",
       "count  506.00  506.00   506.00  506.00  506.00  506.00  \n",
       "mean     9.55  408.24    18.46  356.67   12.65   22.53  \n",
       "std      8.71  168.54     2.16   91.29    7.14    9.20  \n",
       "min      1.00  187.00    12.60    0.32    1.73    5.00  \n",
       "25%      4.00  279.00    17.40  375.38    6.95   17.02  \n",
       "50%      5.00  330.00    19.05  391.44   11.36   21.20  \n",
       "75%     24.00  666.00    20.20  396.23   16.96   25.00  \n",
       "max     24.00  711.00    22.00  396.90   37.97   50.00  "
      ]
     },
     "execution_count": 10,
     "metadata": {},
     "output_type": "execute_result"
    }
   ],
   "source": [
    "path = './data/housing.csv'\n",
    "attri = ['CRIM', 'ZN', 'INDUS', 'CHAS', 'NOX', 'RM', 'AGE',\n",
    "         'DIS', 'RAD', 'TAX', 'PTRATIO', 'B', 'LSTAT', 'MEDV']\n",
    "dataset = read_csv(path, names=attri, delim_whitespace=True)\n",
    "# print(data.dtypes)\n",
    "dataset.head(20)\n",
    "dataset.describe()"
   ]
  },
  {
   "cell_type": "code",
   "execution_count": 11,
   "metadata": {
    "ExecuteTime": {
     "end_time": "2019-10-10T15:42:30.745253Z",
     "start_time": "2019-10-10T15:42:28.810756Z"
    }
   },
   "outputs": [
    {
     "data": {
      "image/png": "[encoded data removed]",
      "text/plain": [
       "<Figure size 720x720 with 16 Axes>"
      ]
     },
     "metadata": {
      "needs_background": "light"
     },
     "output_type": "display_data"
    }
   ],
   "source": [
    "# histograms\n",
    "dataset.hist(bins=10,figsize=(10,10),grid=False);"
   ]
  },
  {
   "cell_type": "markdown",
   "metadata": {},
   "source": [
    "通过 feature selection 选定了'RM'、'LSTAT'、 'PTRATIO'、 和 'MEDV' 作为关键特征"
   ]
  },
  {
   "cell_type": "code",
   "execution_count": 12,
   "metadata": {
    "ExecuteTime": {
     "end_time": "2019-10-10T15:42:30.760131Z",
     "start_time": "2019-10-10T15:42:30.747295Z"
    }
   },
   "outputs": [
    {
     "data": {
      "text/html": [
       "<div>\n",
       "<style scoped>\n",
       "    .dataframe tbody tr th:only-of-type {\n",
       "        vertical-align: middle;\n",
       "    }\n",
       "\n",
       "    .dataframe tbody tr th {\n",
       "        vertical-align: top;\n",
       "    }\n",
       "\n",
       "    .dataframe thead th {\n",
       "        text-align: right;\n",
       "    }\n",
       "</style>\n",
       "<table border=\"1\" class=\"dataframe\">\n",
       "  <thead>\n",
       "    <tr style=\"text-align: right;\">\n",
       "      <th></th>\n",
       "      <th>CHAS</th>\n",
       "      <th>RM</th>\n",
       "      <th>TAX</th>\n",
       "      <th>PTRATIO</th>\n",
       "      <th>B</th>\n",
       "      <th>LSTAT</th>\n",
       "      <th>MEDV</th>\n",
       "    </tr>\n",
       "  </thead>\n",
       "  <tbody>\n",
       "    <tr>\n",
       "      <th>0</th>\n",
       "      <td>0</td>\n",
       "      <td>6.58</td>\n",
       "      <td>296.0</td>\n",
       "      <td>15.3</td>\n",
       "      <td>396.90</td>\n",
       "      <td>4.98</td>\n",
       "      <td>24.0</td>\n",
       "    </tr>\n",
       "    <tr>\n",
       "      <th>1</th>\n",
       "      <td>0</td>\n",
       "      <td>6.42</td>\n",
       "      <td>242.0</td>\n",
       "      <td>17.8</td>\n",
       "      <td>396.90</td>\n",
       "      <td>9.14</td>\n",
       "      <td>21.6</td>\n",
       "    </tr>\n",
       "    <tr>\n",
       "      <th>2</th>\n",
       "      <td>0</td>\n",
       "      <td>7.18</td>\n",
       "      <td>242.0</td>\n",
       "      <td>17.8</td>\n",
       "      <td>392.83</td>\n",
       "      <td>4.03</td>\n",
       "      <td>34.7</td>\n",
       "    </tr>\n",
       "    <tr>\n",
       "      <th>3</th>\n",
       "      <td>0</td>\n",
       "      <td>7.00</td>\n",
       "      <td>222.0</td>\n",
       "      <td>18.7</td>\n",
       "      <td>394.63</td>\n",
       "      <td>2.94</td>\n",
       "      <td>33.4</td>\n",
       "    </tr>\n",
       "    <tr>\n",
       "      <th>4</th>\n",
       "      <td>0</td>\n",
       "      <td>7.15</td>\n",
       "      <td>222.0</td>\n",
       "      <td>18.7</td>\n",
       "      <td>396.90</td>\n",
       "      <td>5.33</td>\n",
       "      <td>36.2</td>\n",
       "    </tr>\n",
       "  </tbody>\n",
       "</table>\n",
       "</div>"
      ],
      "text/plain": [
       "   CHAS    RM    TAX  PTRATIO       B  LSTAT  MEDV\n",
       "0     0  6.58  296.0     15.3  396.90   4.98  24.0\n",
       "1     0  6.42  242.0     17.8  396.90   9.14  21.6\n",
       "2     0  7.18  242.0     17.8  392.83   4.03  34.7\n",
       "3     0  7.00  222.0     18.7  394.63   2.94  33.4\n",
       "4     0  7.15  222.0     18.7  396.90   5.33  36.2"
      ]
     },
     "execution_count": 12,
     "metadata": {},
     "output_type": "execute_result"
    }
   ],
   "source": [
    "prices = dataset['MEDV']\n",
    "dataset = dataset.drop(['CRIM','ZN','INDUS','NOX','AGE','DIS','RAD'], axis = 1)\n",
    "features = dataset.drop('MEDV', axis = 1)\n",
    "dataset.head()"
   ]
  },
  {
   "cell_type": "markdown",
   "metadata": {},
   "source": [
    "## __Model Test__"
   ]
  },
  {
   "cell_type": "markdown",
   "metadata": {},
   "source": [
    "Data load:\n",
    "\n",
    "[Manimala](https://www.kaggle.com/vikrishnan/house-sales-price-using-regression/notebook)通过 feature selection 选定了'RM'、'LSTAT'、 'PTRATIO'、 和 'MEDV' 作为关键特征"
   ]
  },
  {
   "cell_type": "code",
   "execution_count": 13,
   "metadata": {
    "ExecuteTime": {
     "end_time": "2019-10-10T15:42:30.783632Z",
     "start_time": "2019-10-10T15:42:30.763002Z"
    },
    "code_folding": []
   },
   "outputs": [
    {
     "name": "stdout",
     "output_type": "stream",
     "text": [
      "数据size: 训练集 (404, 6) (404,) 测试集 (102, 6) (102,)\n"
     ]
    }
   ],
   "source": [
    "from sklearn.model_selection import train_test_split\n",
    "array = dataset.values\n",
    "X = array[:, 0:6]\n",
    "Y = array[:, 6]\n",
    "validation_size = 0.20\n",
    "seed = 7\n",
    "train_X,  test_X, train_Y, test_Y = train_test_split(\n",
    "    X, Y, test_size=validation_size, random_state=seed)\n",
    "\n",
    "print(\"数据size:\", \"训练集\", train_X.shape, train_Y.shape,\n",
    "      \"测试集\", test_X.shape, test_Y.shape)"
   ]
  },
  {
   "cell_type": "markdown",
   "metadata": {},
   "source": [
    "__data normalization：数据归一化/标准化是十分重要的环节！__\n",
    "\n",
    "我自己在实现Linear Regression的时候，没有对数据进行归一化，导致 __模型不收敛（Loss没有递减）!!!__\n",
    "\n",
    "归一化/标准化时需要注意的问题：\n",
    "- 在 __特征方向__ 上进行归一化\n",
    "- 训练集和测试集 __分开__ 进行归一化\n",
    "- __对label不用做归一化呀！__"
   ]
  },
  {
   "cell_type": "code",
   "execution_count": 14,
   "metadata": {
    "ExecuteTime": {
     "end_time": "2019-10-10T15:42:30.790165Z",
     "start_time": "2019-10-10T15:42:30.785349Z"
    }
   },
   "outputs": [],
   "source": [
    "from sklearn.preprocessing import StandardScaler\n",
    "std = StandardScaler()\n",
    "train_X = std.fit_transform(train_X)\n",
    "test_X = std.fit_transform(test_X)"
   ]
  },
  {
   "cell_type": "markdown",
   "metadata": {},
   "source": [
    "score function: 使用均方误差最为模型评分"
   ]
  },
  {
   "cell_type": "code",
   "execution_count": 15,
   "metadata": {
    "ExecuteTime": {
     "end_time": "2019-10-10T15:42:30.795314Z",
     "start_time": "2019-10-10T15:42:30.791972Z"
    }
   },
   "outputs": [],
   "source": [
    "def mean_squared_error(y, y_hat):\n",
    "    m = len(y)\n",
    "    return np.sum(np.power(y-y_hat, 2))/m "
   ]
  },
  {
   "cell_type": "markdown",
   "metadata": {},
   "source": [
    "Model comparison: 比对所实现的几个不同的分类模型的表现"
   ]
  },
  {
   "cell_type": "code",
   "execution_count": 16,
   "metadata": {
    "ExecuteTime": {
     "end_time": "2019-10-10T15:42:32.320734Z",
     "start_time": "2019-10-10T15:42:30.797152Z"
    }
   },
   "outputs": [],
   "source": [
    "model__1, model__2, model__3, model__4 = LinearRegression(), RidgeRegression(\n",
    "    0.1), LassoRegression(0.5), ElasticRegression(0.5, 0.5)\n",
    "\n",
    "model__1.train(train_X, train_Y, learn_rate=0.001, iteration=50000, loss_print=False)\n",
    "model__2.train(train_X, train_Y, learn_rate=0.1, iteration=1000, loss_print=False)\n",
    "model__3.train(train_X, train_Y, learn_rate=0.1, iteration=1000, loss_print=False)\n",
    "model__4.train(train_X, train_Y, learn_rate=0.1, iteration=1000, loss_print=False)"
   ]
  },
  {
   "cell_type": "code",
   "execution_count": 17,
   "metadata": {
    "ExecuteTime": {
     "end_time": "2019-10-10T15:42:32.328264Z",
     "start_time": "2019-10-10T15:42:32.322431Z"
    }
   },
   "outputs": [
    {
     "name": "stdout",
     "output_type": "stream",
     "text": [
      "mean squared error on different regression model：\n",
      "Linear：40.34\n",
      "Ridge：36.94\n",
      "Lasso：39.22\n",
      "ElasticNet：38.09\n"
     ]
    }
   ],
   "source": [
    "print(\"mean squared error on different regression model：\")\n",
    "print(\"Linear：%.2f\"%(mean_squared_error(y=test_Y, y_hat=model__1.predict(test_X))))\n",
    "print(\"Ridge：%.2f\"%(mean_squared_error(y=test_Y, y_hat=model__2.predict(test_X))))\n",
    "print(\"Lasso：%.2f\"%(mean_squared_error(y=test_Y, y_hat=model__3.predict(test_X))))\n",
    "print(\"ElasticNet：%.2f\"%(mean_squared_error(y=test_Y, y_hat=model__4.predict(test_X))))"
   ]
  },
  {
   "cell_type": "markdown",
   "metadata": {},
   "source": [
    "# __Summarize__"
   ]
  },
  {
   "cell_type": "markdown",
   "metadata": {},
   "source": [
    "通过不同模型之间的比对，可以看出在相同 学习率、迭代次数 `Ridge Regression`、`Lasso Regression`、`ElasticNet Regression`的表现要稍微优于不添加正则项的`Linear Regression`，这还是在手动设定正则化项系数`λ1`和`λ2`（如果交叉验证进行超参数选择，相信在测试集上会有更好的表现，篇幅原因就没有实验）。\n",
    "\n",
    "通过自己实现不同的线性模型，增加了自己对于模型的理解、提升了代码水平。"
   ]
  }
 ],
 "metadata": {
  "kernelspec": {
   "display_name": "base",
   "language": "python",
   "name": "python3"
  },
  "language_info": {
   "codemirror_mode": {
    "name": "ipython",
    "version": 3
   },
   "file_extension": ".py",
   "mimetype": "text/x-python",
   "name": "python",
   "nbconvert_exporter": "python",
   "pygments_lexer": "ipython3",
   "version": "3.7.3"
  },
  "latex_envs": {
   "LaTeX_envs_menu_present": true,
   "autoclose": false,
   "autocomplete": true,
   "bibliofile": "biblio.bib",
   "cite_by": "apalike",
   "current_citInitial": 1,
   "eqLabelWithNumbers": true,
   "eqNumInitial": 1,
   "hotkeys": {
    "equation": "Ctrl-E",
    "itemize": "Ctrl-I"
   },
   "labels_anchors": false,
   "latex_user_defs": false,
   "report_style_numbering": false,
   "user_envs_cfg": false
  },
  "toc": {
   "base_numbering": 1,
   "nav_menu": {},
   "number_sections": true,
   "sideBar": true,
   "skip_h1_title": false,
   "title_cell": "Table of Contents",
   "title_sidebar": "Contents",
   "toc_cell": true,
   "toc_position": {
    "height": "653.92px",
    "left": "1234.28px",
    "top": "220.12px",
    "width": "295.15px"
   },
   "toc_section_display": true,
   "toc_window_display": false
  }
 },
 "nbformat": 4,
 "nbformat_minor": 2
}
